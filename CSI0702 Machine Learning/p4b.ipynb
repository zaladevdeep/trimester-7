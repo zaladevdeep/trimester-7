{
 "cells": [
  {
   "cell_type": "code",
   "execution_count": null,
   "metadata": {},
   "outputs": [],
   "source": [
    "# normal eqaution with regularizatiopn\n",
    "\n",
    "import numpy as np\n",
    "import matplotlib.pyplot as plt\n",
    "import pandas as pd\n",
    "from sklearn.model_selection import train_test_split\n",
    "from sklearn import datasets,metrics\n",
    "\n",
    "\n",
    "dataset = pd.read_csv('CSI0702 Machine Learning\\Real_Estate_Prices.csv')\n",
    "from sklearn.preprocessing import StandardScaler\n",
    "sc = StandardScaler()\n",
    "\n",
    "z=dataset.iloc[:].values\n",
    "z = sc.fit_transform(z)\n",
    "\n",
    "X = z[:, :-1]\n",
    "y = z[:, -1]\n",
    "\n",
    "X_train, X_test, y_train, y_test = train_test_split(X, y, test_size = 1/3, random_state = 0)\n",
    "l=np.identity(X_train.shape[1])\n",
    "l[0,0]=0\n",
    "lamda=1\n",
    "thetas = np.dot(np.dot(np.linalg.inv(np.dot(X_train.T, X_train)+lamda*l),X_train.T),y_train)\n",
    "\n",
    "# model evaluation for training set\n",
    "y_pred = np.dot(X_train,thetas)\n",
    "\n",
    "\n",
    "y_test_predict = np.dot(X_test,thetas)\n",
    "rmse = (np.sqrt(metrics.mean_squared_error(y_train, y_pred)))\n",
    "print(rmse)\n",
    "\n",
    "rmse = (np.sqrt(metrics.mean_squared_error(y_test, y_test_predict)))\n",
    "print(rmse)"
   ]
  }
 ],
 "metadata": {
  "kernelspec": {
   "display_name": "Python 3.9.8 64-bit",
   "language": "python",
   "name": "python3"
  },
  "language_info": {
   "name": "python",
   "version": "3.9.8"
  },
  "orig_nbformat": 4,
  "vscode": {
   "interpreter": {
    "hash": "280038a1b5b2ffc7ae4b2f059af57594e05674a3a4ff919207ab71ea5f04cea8"
   }
  }
 },
 "nbformat": 4,
 "nbformat_minor": 2
}
