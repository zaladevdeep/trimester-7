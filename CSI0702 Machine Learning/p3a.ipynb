{
 "cells": [
  {
   "cell_type": "code",
   "execution_count": null,
   "metadata": {},
   "outputs": [],
   "source": [
    "from turtle import color\n",
    "import pandas as pd\n",
    "import matplotlib.pyplot as plt\n",
    "\n",
    "import csv\n",
    "x = pd.read_csv(\"CSI0702 Machine Learning\\\\Real_Estate_Prices.csv\")\n",
    "a=x['X2 house age']\n",
    "b=x['Y house price of unit area']\n",
    "print(a)\n",
    "print(b)\n",
    "plt.title(\"Income vs Hapiness Data\")\n",
    "plt.scatter(a,b)\n",
    "# plt.show()\n",
    "\n",
    "m=0\n",
    "c=0\n",
    "l=0.0001\n",
    "epoch=1000\n",
    "n=float(len(a))\n",
    "for i in range(epoch):\n",
    "    y_pred=m*a+c\n",
    "    d_m=(-2/n) * sum(a*(b-y_pred))\n",
    "    d_c=(-2/n) * sum(b-y_pred)\n",
    "    m=m-l*d_m\n",
    "    c=c-l*d_c\n",
    "\n",
    "print(m,c)\n",
    "\n",
    "plt.plot(a,m*a+c,color='red')\n",
    "plt.show()"
   ]
  }
 ],
 "metadata": {
  "language_info": {
   "name": "python"
  },
  "orig_nbformat": 4
 },
 "nbformat": 4,
 "nbformat_minor": 2
}
