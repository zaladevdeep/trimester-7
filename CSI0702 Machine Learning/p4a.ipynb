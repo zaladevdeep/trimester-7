{
 "cells": [
  {
   "cell_type": "code",
   "execution_count": null,
   "metadata": {},
   "outputs": [],
   "source": [
    "# gradient descent with regularization\n",
    "\n",
    "import pandas as pd\n",
    "import numpy as np\n",
    "import matplotlib.pyplot as plt\n",
    "from sklearn.model_selection import train_test_split\n",
    "from sklearn.linear_model import LinearRegression\n",
    "import math\n",
    "from sklearn.model_selection import train_test_split\n",
    "from sklearn.linear_model import LinearRegression\n",
    "from sklearn import linear_model\n",
    "\n",
    "\n",
    "df = pd.read_csv('CSI0702 Machine Learning\\Real_Estate_Prices.csv')\n",
    "\n",
    "print(df)\n",
    "\n",
    "x=df.drop(['No','Y house price of unit area'],axis=1)\n",
    "\n",
    "y=df['Y house price of unit area']\n",
    "\n",
    "x=np.array(df.drop(['No','Y house price of unit area'],axis=1))\n",
    "y=np.array(df['Y house price of unit area']).reshape(-1,1)\n",
    "\n",
    "lr = LinearRegression()\n",
    "\n",
    "lr.fit(x,y)\n",
    "\n",
    "lr.coef_\n",
    "\n",
    "lr.intercept_\n",
    "\n",
    "yp=lr.predict(x)\n",
    "\n",
    "def RSE(y,yp):\n",
    "    y=np.array(y)\n",
    "    yp=np.array(yp)\n",
    "    RSS=np.sum(np.square(y-yp))\n",
    "    rse=math.sqrt(RSS/(len(y)-2))\n",
    "    \n",
    "    return rse\n",
    "\n",
    "rse=RSE(y,yp)\n",
    "\n",
    "print(rse)\n",
    "\n",
    "train_x,test_x,train_y,test_y=train_test_split(x,y,test_size=0.3,random_state=2)\n",
    "\n",
    "reg = LinearRegression().fit(train_x,train_y)\n",
    "\n",
    "print(reg.score(test_x,test_y))\n",
    "\n",
    "print(reg.score(train_x,train_y))\n",
    "\n",
    "lasso_reg = linear_model.Lasso(alpha=0.001,max_iter=10000,tol=0.1)\n",
    "\n",
    "lasso_reg.fit(train_x,train_y)\n",
    "\n",
    "print(lasso_reg.score(test_x,test_y))\n",
    "\n",
    "print(lasso_reg.score(train_x,train_y))"
   ]
  }
 ],
 "metadata": {
  "kernelspec": {
   "display_name": "Python 3.9.8 64-bit",
   "language": "python",
   "name": "python3"
  },
  "language_info": {
   "name": "python",
   "version": "3.9.8"
  },
  "orig_nbformat": 4,
  "vscode": {
   "interpreter": {
    "hash": "280038a1b5b2ffc7ae4b2f059af57594e05674a3a4ff919207ab71ea5f04cea8"
   }
  }
 },
 "nbformat": 4,
 "nbformat_minor": 2
}
