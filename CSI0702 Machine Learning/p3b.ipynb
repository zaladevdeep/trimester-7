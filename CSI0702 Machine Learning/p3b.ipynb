{
 "cells": [
  {
   "cell_type": "code",
   "execution_count": null,
   "metadata": {},
   "outputs": [],
   "source": [
    "from google.colab import drive\n",
    "drive.mount('/content/drive')"
   ]
  },
  {
   "cell_type": "code",
   "execution_count": null,
   "metadata": {},
   "outputs": [],
   "source": [
    "import pandas as pd\n",
    "import numpy as np\n",
    "import matplotlib.pyplot as plt\n",
    "from sklearn.preprocessing import StandardScaler\n",
    "\n",
    "df=pd.read_csv('CSI0702 Machine Learning\\Real_Estate_Prices.csv')\n",
    "\n",
    "print(df)\n",
    "\n",
    "df['No']=1\n",
    "\n",
    "print(df)\n",
    "\n",
    "scaler=StandardScaler()\n",
    "data=scaler.fit_transform(df)\n",
    "data=pd.DataFrame(data)\n",
    "print(data)\n",
    "data.iloc[:,0]=1\n",
    "print(data)\n",
    "x = data.iloc[0:,0:7]\n",
    "y=data.iloc[0:,7]\n",
    "print(y)\n",
    "x=np.array(x)\n",
    "y=np.array(y)\n",
    "cp=[]\n",
    "itr=[]\n",
    "\n",
    "def cost(data,params):\n",
    "    total_cost=0\n",
    "    for i in range(414):\n",
    "        total_cost += (1/414)*((data[i]*params).sum() - y[i])**2\n",
    "    cp.append(total_cost)\n",
    "    return total_cost    \n",
    "\n",
    "def gd(data,params,lrate,iter_value):\n",
    "    for i in range(iter_value):\n",
    "        itr.append(i)\n",
    "        slopes = np.zeros(7)\n",
    "        for j in range(414):\n",
    "            for k in range(7):\n",
    "                slopes[k] += (1/414)*((data[j]*params).sum() - y[j])*data[j][k]\n",
    "        params = params - lrate*slopes\n",
    "        cost(data,params)\n",
    "    return params                                      \n",
    "\n",
    "params=np.zeros(7)\n",
    "lrate=0.01\n",
    "iter_value=300\n",
    "params=gd(x,params,lrate,iter_value)\n",
    "print(params)\n",
    "\n",
    "plt.plot(itr,cp)\n",
    "plt.show()"
   ]
  }
 ],
 "metadata": {
  "kernelspec": {
   "display_name": "Python 3.9.8 64-bit",
   "language": "python",
   "name": "python3"
  },
  "language_info": {
   "name": "python",
   "version": "3.9.8"
  },
  "orig_nbformat": 4,
  "vscode": {
   "interpreter": {
    "hash": "280038a1b5b2ffc7ae4b2f059af57594e05674a3a4ff919207ab71ea5f04cea8"
   }
  }
 },
 "nbformat": 4,
 "nbformat_minor": 2
}
