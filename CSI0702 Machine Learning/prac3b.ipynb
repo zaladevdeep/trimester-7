{
 "cells": [
  {
   "cell_type": "code",
   "execution_count": null,
   "id": "d1cf7974-e616-4c7b-9fa8-9b0f30ed87cd",
   "metadata": {},
   "outputs": [],
   "source": [
    "import pandas as pd\n",
    "import numpy as np\n",
    "import matplotlib.pyplot as plt\n"
   ]
  },
  {
   "cell_type": "code",
   "execution_count": null,
   "id": "4ff45be0-c7dd-42b9-8c4a-2e345641a613",
   "metadata": {},
   "outputs": [],
   "source": [
    "df=pd.read_csv('Real_Estate_Price.csv')"
   ]
  },
  {
   "cell_type": "code",
   "execution_count": null,
   "id": "869f0dbc-696a-4bf9-91da-4d4e3660c768",
   "metadata": {},
   "outputs": [],
   "source": [
    "df"
   ]
  },
  {
   "cell_type": "code",
   "execution_count": null,
   "id": "53ab0987-b642-4318-8220-412337fa4dd6",
   "metadata": {},
   "outputs": [],
   "source": [
    "df['No']=1"
   ]
  },
  {
   "cell_type": "code",
   "execution_count": null,
   "id": "084f6c56-3217-4452-a8d7-f7cd7a77bf32",
   "metadata": {},
   "outputs": [],
   "source": [
    "df"
   ]
  },
  {
   "cell_type": "code",
   "execution_count": null,
   "id": "704589e1-ca9b-46dc-98db-ae2ce9997ffb",
   "metadata": {},
   "outputs": [],
   "source": [
    "from sklearn.preprocessing import StandardScaler\n"
   ]
  },
  {
   "cell_type": "code",
   "execution_count": null,
   "id": "956de41f-e045-4708-a16d-676ee4357bfd",
   "metadata": {},
   "outputs": [],
   "source": [
    "scaler=StandardScaler()"
   ]
  },
  {
   "cell_type": "code",
   "execution_count": null,
   "id": "192c8b7c-ba45-45a2-9843-a3f866246f19",
   "metadata": {},
   "outputs": [],
   "source": [
    "data=scaler.fit_transform(df)"
   ]
  },
  {
   "cell_type": "code",
   "execution_count": null,
   "id": "5b3ec8d2-878d-49c9-99c3-036dacf3fd41",
   "metadata": {},
   "outputs": [],
   "source": [
    "data=pd.DataFrame(data)"
   ]
  },
  {
   "cell_type": "code",
   "execution_count": null,
   "id": "ad75f30d-01d7-4d28-8dce-cd69d01ac0bb",
   "metadata": {},
   "outputs": [],
   "source": [
    "data"
   ]
  },
  {
   "cell_type": "code",
   "execution_count": null,
   "id": "ff0dda71-4e51-4d43-9cb9-25b8e76c33d6",
   "metadata": {},
   "outputs": [],
   "source": [
    "data.iloc[:,0]=1"
   ]
  },
  {
   "cell_type": "code",
   "execution_count": null,
   "id": "49371054-6124-4337-ad61-fcff1fc14a0a",
   "metadata": {},
   "outputs": [],
   "source": [
    "data"
   ]
  },
  {
   "cell_type": "code",
   "execution_count": null,
   "id": "d3d0a9a8-2212-44f1-9d80-29ccb2ec07c9",
   "metadata": {},
   "outputs": [],
   "source": [
    "x = data.iloc[0:,0:7]"
   ]
  },
  {
   "cell_type": "code",
   "execution_count": null,
   "id": "5c21db46-6457-49b2-a9e0-c4c7152af999",
   "metadata": {},
   "outputs": [],
   "source": [
    "y=data.iloc[0:,7]"
   ]
  },
  {
   "cell_type": "code",
   "execution_count": null,
   "id": "5bf685a1-875a-46c1-88d0-6b224246258e",
   "metadata": {},
   "outputs": [],
   "source": [
    "y"
   ]
  },
  {
   "cell_type": "code",
   "execution_count": null,
   "id": "02cb6331-2792-4f30-8316-195a65310b0f",
   "metadata": {},
   "outputs": [],
   "source": [
    "x=np.array(x)\n",
    "y=np.array(y)"
   ]
  },
  {
   "cell_type": "code",
   "execution_count": null,
   "id": "5de5bbdb-f785-4985-8591-2570f638a515",
   "metadata": {},
   "outputs": [],
   "source": [
    "cp=[]\n",
    "itr=[]"
   ]
  },
  {
   "cell_type": "code",
   "execution_count": null,
   "id": "bdb2d9eb-cf64-4aa8-9c6b-fba1971dcae7",
   "metadata": {},
   "outputs": [],
   "source": [
    "def cost(data,params):\n",
    "    total_cost=0\n",
    "    for i in range(414):\n",
    "        total_cost += (1/414)*((data[i]*params).sum() - y[i])**2\n",
    "    cp.append(total_cost)\n",
    "    return total_cost    "
   ]
  },
  {
   "cell_type": "code",
   "execution_count": null,
   "id": "7015b3c5-bee7-450e-9827-48c0172c3241",
   "metadata": {},
   "outputs": [],
   "source": [
    "def gd(data,params,lrate,iter_value):\n",
    "    for i in range(iter_value):\n",
    "        itr.append(i)\n",
    "        slopes = np.zeros(7)\n",
    "        for j in range(414):\n",
    "            for k in range(7):\n",
    "                slopes[k] += (1/414)*((data[j]*params).sum() - y[j])*data[j][k]\n",
    "        params = params - lrate*slopes\n",
    "        cost(data,params)\n",
    "    return params                                      "
   ]
  },
  {
   "cell_type": "code",
   "execution_count": null,
   "id": "e98ceee2-0b79-4db7-bbdc-8c19204280e5",
   "metadata": {},
   "outputs": [],
   "source": [
    "params=np.zeros(7)\n",
    "lrate=0.01\n",
    "iter_value=300\n",
    "params=gd(x,params,lrate,iter_value)\n",
    "print(params)"
   ]
  },
  {
   "cell_type": "code",
   "execution_count": null,
   "id": "06c2fc78-f384-4632-a129-a5ba575a9155",
   "metadata": {},
   "outputs": [],
   "source": [
    "plt.plot(itr,cp)"
   ]
  },
  {
   "cell_type": "code",
   "execution_count": null,
   "id": "cab7ee20-0426-413e-8409-7a5d4d26ec1d",
   "metadata": {},
   "outputs": [],
   "source": []
  }
 ],
 "metadata": {
  "kernelspec": {
   "display_name": "Python 3.9.8 64-bit",
   "language": "python",
   "name": "python3"
  },
  "language_info": {
   "codemirror_mode": {
    "name": "ipython",
    "version": 3
   },
   "file_extension": ".py",
   "mimetype": "text/x-python",
   "name": "python",
   "nbconvert_exporter": "python",
   "pygments_lexer": "ipython3",
   "version": "3.9.8"
  },
  "vscode": {
   "interpreter": {
    "hash": "280038a1b5b2ffc7ae4b2f059af57594e05674a3a4ff919207ab71ea5f04cea8"
   }
  }
 },
 "nbformat": 4,
 "nbformat_minor": 5
}
